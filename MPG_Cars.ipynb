{
 "cells": [
  {
   "cell_type": "markdown",
   "id": "9847b02e",
   "metadata": {},
   "source": [
    "# 1. Importing all necessary libraries"
   ]
  },
  {
   "cell_type": "code",
   "execution_count": 1,
   "id": "78fa3357",
   "metadata": {},
   "outputs": [],
   "source": [
    "import pandas as pd\n",
    "\n",
    "import matplotlib.pyplot as plt\n",
    "\n",
    "import seaborn as sns\n",
    "\n",
    "import warnings\n",
    "warnings.filterwarnings('ignore')\n",
    "\n",
    "from sklearn.linear_model import LinearRegression\n",
    "from sklearn.preprocessing import StandardScaler\n",
    "from sklearn.metrics import mean_absolute_error,mean_squared_error\n",
    "\n",
    "import statsmodels.formula.api as smf\n",
    "\n",
    "import numpy as np"
   ]
  },
  {
   "cell_type": "markdown",
   "id": "45e1aea7",
   "metadata": {},
   "source": [
    "# 2. Data Collection"
   ]
  },
  {
   "cell_type": "code",
   "execution_count": 2,
   "id": "d1a45df9",
   "metadata": {},
   "outputs": [
    {
     "data": {
      "text/html": [
       "<div>\n",
       "<style scoped>\n",
       "    .dataframe tbody tr th:only-of-type {\n",
       "        vertical-align: middle;\n",
       "    }\n",
       "\n",
       "    .dataframe tbody tr th {\n",
       "        vertical-align: top;\n",
       "    }\n",
       "\n",
       "    .dataframe thead th {\n",
       "        text-align: right;\n",
       "    }\n",
       "</style>\n",
       "<table border=\"1\" class=\"dataframe\">\n",
       "  <thead>\n",
       "    <tr style=\"text-align: right;\">\n",
       "      <th></th>\n",
       "      <th>HP</th>\n",
       "      <th>MPG</th>\n",
       "      <th>VOL</th>\n",
       "      <th>SP</th>\n",
       "      <th>WT</th>\n",
       "    </tr>\n",
       "  </thead>\n",
       "  <tbody>\n",
       "    <tr>\n",
       "      <th>0</th>\n",
       "      <td>49</td>\n",
       "      <td>53.700681</td>\n",
       "      <td>89</td>\n",
       "      <td>104.185353</td>\n",
       "      <td>28.762059</td>\n",
       "    </tr>\n",
       "    <tr>\n",
       "      <th>1</th>\n",
       "      <td>55</td>\n",
       "      <td>50.013401</td>\n",
       "      <td>92</td>\n",
       "      <td>105.461264</td>\n",
       "      <td>30.466833</td>\n",
       "    </tr>\n",
       "    <tr>\n",
       "      <th>2</th>\n",
       "      <td>55</td>\n",
       "      <td>50.013401</td>\n",
       "      <td>92</td>\n",
       "      <td>105.461264</td>\n",
       "      <td>30.193597</td>\n",
       "    </tr>\n",
       "    <tr>\n",
       "      <th>3</th>\n",
       "      <td>70</td>\n",
       "      <td>45.696322</td>\n",
       "      <td>92</td>\n",
       "      <td>113.461264</td>\n",
       "      <td>30.632114</td>\n",
       "    </tr>\n",
       "    <tr>\n",
       "      <th>4</th>\n",
       "      <td>53</td>\n",
       "      <td>50.504232</td>\n",
       "      <td>92</td>\n",
       "      <td>104.461264</td>\n",
       "      <td>29.889149</td>\n",
       "    </tr>\n",
       "    <tr>\n",
       "      <th>...</th>\n",
       "      <td>...</td>\n",
       "      <td>...</td>\n",
       "      <td>...</td>\n",
       "      <td>...</td>\n",
       "      <td>...</td>\n",
       "    </tr>\n",
       "    <tr>\n",
       "      <th>76</th>\n",
       "      <td>322</td>\n",
       "      <td>36.900000</td>\n",
       "      <td>50</td>\n",
       "      <td>169.598513</td>\n",
       "      <td>16.132947</td>\n",
       "    </tr>\n",
       "    <tr>\n",
       "      <th>77</th>\n",
       "      <td>238</td>\n",
       "      <td>19.197888</td>\n",
       "      <td>115</td>\n",
       "      <td>150.576579</td>\n",
       "      <td>37.923113</td>\n",
       "    </tr>\n",
       "    <tr>\n",
       "      <th>78</th>\n",
       "      <td>263</td>\n",
       "      <td>34.000000</td>\n",
       "      <td>50</td>\n",
       "      <td>151.598513</td>\n",
       "      <td>15.769625</td>\n",
       "    </tr>\n",
       "    <tr>\n",
       "      <th>79</th>\n",
       "      <td>295</td>\n",
       "      <td>19.833733</td>\n",
       "      <td>119</td>\n",
       "      <td>167.944460</td>\n",
       "      <td>39.423099</td>\n",
       "    </tr>\n",
       "    <tr>\n",
       "      <th>80</th>\n",
       "      <td>236</td>\n",
       "      <td>12.101263</td>\n",
       "      <td>107</td>\n",
       "      <td>139.840817</td>\n",
       "      <td>34.948615</td>\n",
       "    </tr>\n",
       "  </tbody>\n",
       "</table>\n",
       "<p>81 rows × 5 columns</p>\n",
       "</div>"
      ],
      "text/plain": [
       "     HP        MPG  VOL          SP         WT\n",
       "0    49  53.700681   89  104.185353  28.762059\n",
       "1    55  50.013401   92  105.461264  30.466833\n",
       "2    55  50.013401   92  105.461264  30.193597\n",
       "3    70  45.696322   92  113.461264  30.632114\n",
       "4    53  50.504232   92  104.461264  29.889149\n",
       "..  ...        ...  ...         ...        ...\n",
       "76  322  36.900000   50  169.598513  16.132947\n",
       "77  238  19.197888  115  150.576579  37.923113\n",
       "78  263  34.000000   50  151.598513  15.769625\n",
       "79  295  19.833733  119  167.944460  39.423099\n",
       "80  236  12.101263  107  139.840817  34.948615\n",
       "\n",
       "[81 rows x 5 columns]"
      ]
     },
     "execution_count": 2,
     "metadata": {},
     "output_type": "execute_result"
    }
   ],
   "source": [
    "cars_data=pd.read_csv(r\"D:\\Data Science\\Data sets\\Cars.csv\")\n",
    "cars_data"
   ]
  },
  {
   "cell_type": "markdown",
   "id": "3379cd6c",
   "metadata": {},
   "source": [
    "# 3. Data Understanding"
   ]
  },
  {
   "cell_type": "markdown",
   "id": "18f7e96d",
   "metadata": {},
   "source": [
    "## 3.1 Initial Analysis"
   ]
  },
  {
   "cell_type": "code",
   "execution_count": 4,
   "id": "271d8824",
   "metadata": {},
   "outputs": [
    {
     "data": {
      "text/plain": [
       "(81, 5)"
      ]
     },
     "execution_count": 4,
     "metadata": {},
     "output_type": "execute_result"
    }
   ],
   "source": [
    "cars_data.shape"
   ]
  },
  {
   "cell_type": "code",
   "execution_count": 5,
   "id": "cde7fa43",
   "metadata": {},
   "outputs": [
    {
     "name": "stdout",
     "output_type": "stream",
     "text": [
      "<class 'pandas.core.frame.DataFrame'>\n",
      "RangeIndex: 81 entries, 0 to 80\n",
      "Data columns (total 5 columns):\n",
      " #   Column  Non-Null Count  Dtype  \n",
      "---  ------  --------------  -----  \n",
      " 0   HP      81 non-null     int64  \n",
      " 1   MPG     81 non-null     float64\n",
      " 2   VOL     81 non-null     int64  \n",
      " 3   SP      81 non-null     float64\n",
      " 4   WT      81 non-null     float64\n",
      "dtypes: float64(3), int64(2)\n",
      "memory usage: 3.3 KB\n"
     ]
    }
   ],
   "source": [
    "cars_data.info()"
   ]
  },
  {
   "cell_type": "code",
   "execution_count": 6,
   "id": "e3c72032",
   "metadata": {},
   "outputs": [
    {
     "data": {
      "text/html": [
       "<div>\n",
       "<style scoped>\n",
       "    .dataframe tbody tr th:only-of-type {\n",
       "        vertical-align: middle;\n",
       "    }\n",
       "\n",
       "    .dataframe tbody tr th {\n",
       "        vertical-align: top;\n",
       "    }\n",
       "\n",
       "    .dataframe thead th {\n",
       "        text-align: right;\n",
       "    }\n",
       "</style>\n",
       "<table border=\"1\" class=\"dataframe\">\n",
       "  <thead>\n",
       "    <tr style=\"text-align: right;\">\n",
       "      <th></th>\n",
       "      <th>HP</th>\n",
       "      <th>MPG</th>\n",
       "      <th>VOL</th>\n",
       "      <th>SP</th>\n",
       "      <th>WT</th>\n",
       "    </tr>\n",
       "  </thead>\n",
       "  <tbody>\n",
       "    <tr>\n",
       "      <th>count</th>\n",
       "      <td>81.000000</td>\n",
       "      <td>81.000000</td>\n",
       "      <td>81.000000</td>\n",
       "      <td>81.000000</td>\n",
       "      <td>81.000000</td>\n",
       "    </tr>\n",
       "    <tr>\n",
       "      <th>mean</th>\n",
       "      <td>117.469136</td>\n",
       "      <td>34.422076</td>\n",
       "      <td>98.765432</td>\n",
       "      <td>121.540272</td>\n",
       "      <td>32.412577</td>\n",
       "    </tr>\n",
       "    <tr>\n",
       "      <th>std</th>\n",
       "      <td>57.113502</td>\n",
       "      <td>9.131445</td>\n",
       "      <td>22.301497</td>\n",
       "      <td>14.181432</td>\n",
       "      <td>7.492813</td>\n",
       "    </tr>\n",
       "    <tr>\n",
       "      <th>min</th>\n",
       "      <td>49.000000</td>\n",
       "      <td>12.101263</td>\n",
       "      <td>50.000000</td>\n",
       "      <td>99.564907</td>\n",
       "      <td>15.712859</td>\n",
       "    </tr>\n",
       "    <tr>\n",
       "      <th>25%</th>\n",
       "      <td>84.000000</td>\n",
       "      <td>27.856252</td>\n",
       "      <td>89.000000</td>\n",
       "      <td>113.829145</td>\n",
       "      <td>29.591768</td>\n",
       "    </tr>\n",
       "    <tr>\n",
       "      <th>50%</th>\n",
       "      <td>100.000000</td>\n",
       "      <td>35.152727</td>\n",
       "      <td>101.000000</td>\n",
       "      <td>118.208698</td>\n",
       "      <td>32.734518</td>\n",
       "    </tr>\n",
       "    <tr>\n",
       "      <th>75%</th>\n",
       "      <td>140.000000</td>\n",
       "      <td>39.531633</td>\n",
       "      <td>113.000000</td>\n",
       "      <td>126.404312</td>\n",
       "      <td>37.392524</td>\n",
       "    </tr>\n",
       "    <tr>\n",
       "      <th>max</th>\n",
       "      <td>322.000000</td>\n",
       "      <td>53.700681</td>\n",
       "      <td>160.000000</td>\n",
       "      <td>169.598513</td>\n",
       "      <td>52.997752</td>\n",
       "    </tr>\n",
       "  </tbody>\n",
       "</table>\n",
       "</div>"
      ],
      "text/plain": [
       "               HP        MPG         VOL          SP         WT\n",
       "count   81.000000  81.000000   81.000000   81.000000  81.000000\n",
       "mean   117.469136  34.422076   98.765432  121.540272  32.412577\n",
       "std     57.113502   9.131445   22.301497   14.181432   7.492813\n",
       "min     49.000000  12.101263   50.000000   99.564907  15.712859\n",
       "25%     84.000000  27.856252   89.000000  113.829145  29.591768\n",
       "50%    100.000000  35.152727  101.000000  118.208698  32.734518\n",
       "75%    140.000000  39.531633  113.000000  126.404312  37.392524\n",
       "max    322.000000  53.700681  160.000000  169.598513  52.997752"
      ]
     },
     "execution_count": 6,
     "metadata": {},
     "output_type": "execute_result"
    }
   ],
   "source": [
    "cars_data.describe()"
   ]
  },
  {
   "cell_type": "markdown",
   "id": "4f54728f",
   "metadata": {},
   "source": [
    "## 3.2 Assumption Check"
   ]
  },
  {
   "cell_type": "markdown",
   "id": "b0184eb5",
   "metadata": {},
   "source": [
    "### 3.2.1 Linearity Test"
   ]
  },
  {
   "cell_type": "code",
   "execution_count": 9,
   "id": "9e7e5b58",
   "metadata": {},
   "outputs": [
    {
     "data": {
      "image/png": "[encoded data removed]",
      "text/plain": [
       "<Figure size 360x360 with 1 Axes>"
      ]
     },
     "metadata": {
      "needs_background": "light"
     },
     "output_type": "display_data"
    }
   ],
   "source": [
    "sns.lmplot( x='HP', y='MPG', data=cars_data)\n",
    "plt.title('HP Vs MPG')\n",
    "plt.show()"
   ]
  },
  {
   "cell_type": "code",
   "execution_count": 10,
   "id": "6b4c0f0f",
   "metadata": {},
   "outputs": [
    {
     "data": {
      "image/png": "[encoded data removed]",
      "text/plain": [
       "<Figure size 432x288 with 1 Axes>"
      ]
     },
     "metadata": {
      "needs_background": "light"
     },
     "output_type": "display_data"
    }
   ],
   "source": [
    "sns.regplot(x='HP', y='MPG', data=cars_data)\n",
    "plt.title('HP Vs MPG')\n",
    "plt.show()"
   ]
  },
  {
   "cell_type": "code",
   "execution_count": 11,
   "id": "7af4eafd",
   "metadata": {},
   "outputs": [
    {
     "data": {
      "image/png": "[encoded data removed]",
      "text/plain": [
       "<Figure size 360x360 with 1 Axes>"
      ]
     },
     "metadata": {
      "needs_background": "light"
     },
     "output_type": "display_data"
    }
   ],
   "source": [
    "sns.lmplot( x='VOL', y='MPG', data=cars_data)\n",
    "plt.title('VOL Vs MPG')\n",
    "plt.show()"
   ]
  },
  {
   "cell_type": "code",
   "execution_count": 12,
   "id": "492f457e",
   "metadata": {},
   "outputs": [
    {
     "data": {
      "image/png": "[encoded data removed]",
      "text/plain": [
       "<Figure size 360x360 with 1 Axes>"
      ]
     },
     "metadata": {
      "needs_background": "light"
     },
     "output_type": "display_data"
    }
   ],
   "source": [
    "sns.lmplot( x='SP', y='MPG', data=cars_data)\n",
    "plt.title('SP Vs MPG')\n",
    "plt.show()"
   ]
  },
  {
   "cell_type": "code",
   "execution_count": 13,
   "id": "b1d77a5b",
   "metadata": {},
   "outputs": [
    {
     "data": {
      "image/png": "[encoded data removed]",
      "text/plain": [
       "<Figure size 360x360 with 1 Axes>"
      ]
     },
     "metadata": {
      "needs_background": "light"
     },
     "output_type": "display_data"
    }
   ],
   "source": [
    "sns.lmplot( x='WT', y='MPG', data=cars_data)\n",
    "plt.title('WT Vs MPG')\n",
    "plt.show()"
   ]
  },
  {
   "cell_type": "markdown",
   "id": "9ee8d09f",
   "metadata": {},
   "source": [
    "### 3.2.2 Normality Test"
   ]
  },
  {
   "cell_type": "code",
   "execution_count": 16,
   "id": "aebb994a",
   "metadata": {},
   "outputs": [
    {
     "data": {
      "image/png": "[encoded data removed]",
      "text/plain": [
       "<Figure size 432x288 with 1 Axes>"
      ]
     },
     "metadata": {
      "needs_background": "light"
     },
     "output_type": "display_data"
    }
   ],
   "source": [
    "sns.kdeplot(x=cars_data['HP'])\n",
    "plt.title('Normal Distribution of HP')\n",
    "plt.show()"
   ]
  },
  {
   "cell_type": "code",
   "execution_count": 18,
   "id": "a31a7869",
   "metadata": {},
   "outputs": [
    {
     "data": {
      "image/png": "[encoded data removed]",
      "text/plain": [
       "<Figure size 432x288 with 1 Axes>"
      ]
     },
     "metadata": {
      "needs_background": "light"
     },
     "output_type": "display_data"
    }
   ],
   "source": [
    "sns.distplot(x=cars_data['VOL'], hist=False)\n",
    "plt.title('Normal Distribution of VOL')\n",
    "plt.show()"
   ]
  },
  {
   "cell_type": "code",
   "execution_count": 19,
   "id": "00502f8d",
   "metadata": {},
   "outputs": [
    {
     "data": {
      "image/png": "[encoded data removed]",
      "text/plain": [
       "<Figure size 432x288 with 1 Axes>"
      ]
     },
     "metadata": {
      "needs_background": "light"
     },
     "output_type": "display_data"
    }
   ],
   "source": [
    "sns.kdeplot(x=cars_data['SP'])\n",
    "plt.title('Normal Distribution of SP')\n",
    "plt.show()"
   ]
  },
  {
   "cell_type": "code",
   "execution_count": 20,
   "id": "01ac3720",
   "metadata": {},
   "outputs": [
    {
     "data": {
      "image/png": "[encoded data removed]",
      "text/plain": [
       "<Figure size 432x288 with 1 Axes>"
      ]
     },
     "metadata": {
      "needs_background": "light"
     },
     "output_type": "display_data"
    }
   ],
   "source": [
    "sns.kdeplot(x=cars_data['WT'])\n",
    "plt.title('Normal Distribution of WT')\n",
    "plt.show()"
   ]
  },
  {
   "cell_type": "code",
   "execution_count": 24,
   "id": "8d204033",
   "metadata": {},
   "outputs": [
    {
     "data": {
      "image/png": "[encoded data removed]",
      "text/plain": [
       "<Figure size 432x288 with 1 Axes>"
      ]
     },
     "metadata": {
      "needs_background": "light"
     },
     "output_type": "display_data"
    }
   ],
   "source": [
    "from scipy import stats\n",
    "stats.probplot(x = cars_data['HP'] ,dist = 'norm',plot=plt) #qqplot\n",
    "plt.show()"
   ]
  },
  {
   "cell_type": "markdown",
   "id": "13c66b59",
   "metadata": {},
   "source": [
    "### 3.2.3 Auto Regression Test\n",
    "**It is passed as no datetime features are present**"
   ]
  },
  {
   "cell_type": "markdown",
   "id": "b4c4ecbc",
   "metadata": {},
   "source": [
    "### 3.2.4 Multi Collinearity Test\n",
    "**Done after building model to check relationship between inputs using 2 techniques:**\n",
    "1. **Correlation Matrix**\n",
    "2. **VIF Factor**"
   ]
  },
  {
   "cell_type": "markdown",
   "id": "04a21759",
   "metadata": {},
   "source": [
    "## Both Linearity and Normality tests are Failed"
   ]
  },
  {
   "cell_type": "markdown",
   "id": "1fb5fa71",
   "metadata": {},
   "source": [
    "# 4. Model Building"
   ]
  },
  {
   "cell_type": "code",
   "execution_count": 26,
   "id": "939cf809",
   "metadata": {},
   "outputs": [
    {
     "data": {
      "text/html": [
       "<div>\n",
       "<style scoped>\n",
       "    .dataframe tbody tr th:only-of-type {\n",
       "        vertical-align: middle;\n",
       "    }\n",
       "\n",
       "    .dataframe tbody tr th {\n",
       "        vertical-align: top;\n",
       "    }\n",
       "\n",
       "    .dataframe thead th {\n",
       "        text-align: right;\n",
       "    }\n",
       "</style>\n",
       "<table border=\"1\" class=\"dataframe\">\n",
       "  <thead>\n",
       "    <tr style=\"text-align: right;\">\n",
       "      <th></th>\n",
       "      <th>HP</th>\n",
       "      <th>VOL</th>\n",
       "      <th>SP</th>\n",
       "      <th>WT</th>\n",
       "    </tr>\n",
       "  </thead>\n",
       "  <tbody>\n",
       "    <tr>\n",
       "      <th>0</th>\n",
       "      <td>49</td>\n",
       "      <td>89</td>\n",
       "      <td>104.185353</td>\n",
       "      <td>28.762059</td>\n",
       "    </tr>\n",
       "    <tr>\n",
       "      <th>1</th>\n",
       "      <td>55</td>\n",
       "      <td>92</td>\n",
       "      <td>105.461264</td>\n",
       "      <td>30.466833</td>\n",
       "    </tr>\n",
       "    <tr>\n",
       "      <th>2</th>\n",
       "      <td>55</td>\n",
       "      <td>92</td>\n",
       "      <td>105.461264</td>\n",
       "      <td>30.193597</td>\n",
       "    </tr>\n",
       "    <tr>\n",
       "      <th>3</th>\n",
       "      <td>70</td>\n",
       "      <td>92</td>\n",
       "      <td>113.461264</td>\n",
       "      <td>30.632114</td>\n",
       "    </tr>\n",
       "    <tr>\n",
       "      <th>4</th>\n",
       "      <td>53</td>\n",
       "      <td>92</td>\n",
       "      <td>104.461264</td>\n",
       "      <td>29.889149</td>\n",
       "    </tr>\n",
       "    <tr>\n",
       "      <th>...</th>\n",
       "      <td>...</td>\n",
       "      <td>...</td>\n",
       "      <td>...</td>\n",
       "      <td>...</td>\n",
       "    </tr>\n",
       "    <tr>\n",
       "      <th>76</th>\n",
       "      <td>322</td>\n",
       "      <td>50</td>\n",
       "      <td>169.598513</td>\n",
       "      <td>16.132947</td>\n",
       "    </tr>\n",
       "    <tr>\n",
       "      <th>77</th>\n",
       "      <td>238</td>\n",
       "      <td>115</td>\n",
       "      <td>150.576579</td>\n",
       "      <td>37.923113</td>\n",
       "    </tr>\n",
       "    <tr>\n",
       "      <th>78</th>\n",
       "      <td>263</td>\n",
       "      <td>50</td>\n",
       "      <td>151.598513</td>\n",
       "      <td>15.769625</td>\n",
       "    </tr>\n",
       "    <tr>\n",
       "      <th>79</th>\n",
       "      <td>295</td>\n",
       "      <td>119</td>\n",
       "      <td>167.944460</td>\n",
       "      <td>39.423099</td>\n",
       "    </tr>\n",
       "    <tr>\n",
       "      <th>80</th>\n",
       "      <td>236</td>\n",
       "      <td>107</td>\n",
       "      <td>139.840817</td>\n",
       "      <td>34.948615</td>\n",
       "    </tr>\n",
       "  </tbody>\n",
       "</table>\n",
       "<p>81 rows × 4 columns</p>\n",
       "</div>"
      ],
      "text/plain": [
       "     HP  VOL          SP         WT\n",
       "0    49   89  104.185353  28.762059\n",
       "1    55   92  105.461264  30.466833\n",
       "2    55   92  105.461264  30.193597\n",
       "3    70   92  113.461264  30.632114\n",
       "4    53   92  104.461264  29.889149\n",
       "..  ...  ...         ...        ...\n",
       "76  322   50  169.598513  16.132947\n",
       "77  238  115  150.576579  37.923113\n",
       "78  263   50  151.598513  15.769625\n",
       "79  295  119  167.944460  39.423099\n",
       "80  236  107  139.840817  34.948615\n",
       "\n",
       "[81 rows x 4 columns]"
      ]
     },
     "execution_count": 26,
     "metadata": {},
     "output_type": "execute_result"
    }
   ],
   "source": [
    "inputs=cars_data[['HP','VOL','SP','WT']]\n",
    "inputs"
   ]
  },
  {
   "cell_type": "code",
   "execution_count": 27,
   "id": "b567903f",
   "metadata": {},
   "outputs": [
    {
     "data": {
      "text/html": [
       "<div>\n",
       "<style scoped>\n",
       "    .dataframe tbody tr th:only-of-type {\n",
       "        vertical-align: middle;\n",
       "    }\n",
       "\n",
       "    .dataframe tbody tr th {\n",
       "        vertical-align: top;\n",
       "    }\n",
       "\n",
       "    .dataframe thead th {\n",
       "        text-align: right;\n",
       "    }\n",
       "</style>\n",
       "<table border=\"1\" class=\"dataframe\">\n",
       "  <thead>\n",
       "    <tr style=\"text-align: right;\">\n",
       "      <th></th>\n",
       "      <th>MPG</th>\n",
       "    </tr>\n",
       "  </thead>\n",
       "  <tbody>\n",
       "    <tr>\n",
       "      <th>0</th>\n",
       "      <td>53.700681</td>\n",
       "    </tr>\n",
       "    <tr>\n",
       "      <th>1</th>\n",
       "      <td>50.013401</td>\n",
       "    </tr>\n",
       "    <tr>\n",
       "      <th>2</th>\n",
       "      <td>50.013401</td>\n",
       "    </tr>\n",
       "    <tr>\n",
       "      <th>3</th>\n",
       "      <td>45.696322</td>\n",
       "    </tr>\n",
       "    <tr>\n",
       "      <th>4</th>\n",
       "      <td>50.504232</td>\n",
       "    </tr>\n",
       "    <tr>\n",
       "      <th>...</th>\n",
       "      <td>...</td>\n",
       "    </tr>\n",
       "    <tr>\n",
       "      <th>76</th>\n",
       "      <td>36.900000</td>\n",
       "    </tr>\n",
       "    <tr>\n",
       "      <th>77</th>\n",
       "      <td>19.197888</td>\n",
       "    </tr>\n",
       "    <tr>\n",
       "      <th>78</th>\n",
       "      <td>34.000000</td>\n",
       "    </tr>\n",
       "    <tr>\n",
       "      <th>79</th>\n",
       "      <td>19.833733</td>\n",
       "    </tr>\n",
       "    <tr>\n",
       "      <th>80</th>\n",
       "      <td>12.101263</td>\n",
       "    </tr>\n",
       "  </tbody>\n",
       "</table>\n",
       "<p>81 rows × 1 columns</p>\n",
       "</div>"
      ],
      "text/plain": [
       "          MPG\n",
       "0   53.700681\n",
       "1   50.013401\n",
       "2   50.013401\n",
       "3   45.696322\n",
       "4   50.504232\n",
       "..        ...\n",
       "76  36.900000\n",
       "77  19.197888\n",
       "78  34.000000\n",
       "79  19.833733\n",
       "80  12.101263\n",
       "\n",
       "[81 rows x 1 columns]"
      ]
     },
     "execution_count": 27,
     "metadata": {},
     "output_type": "execute_result"
    }
   ],
   "source": [
    "actual_output=cars_data[['MPG']]\n",
    "actual_output"
   ]
  },
  {
   "cell_type": "markdown",
   "id": "bcfd3a45",
   "metadata": {},
   "source": [
    "# 5. Model Training\n",
    "### Using sklearn --- from sklearn.linear_model import LinearRegression"
   ]
  },
  {
   "cell_type": "code",
   "execution_count": 30,
   "id": "f6ac39df",
   "metadata": {},
   "outputs": [
    {
     "data": {
      "text/plain": [
       "LinearRegression()"
      ]
     },
     "execution_count": 30,
     "metadata": {},
     "output_type": "execute_result"
    }
   ],
   "source": [
    "linear_model=LinearRegression()  # Model Initialization or Obj creation\n",
    "linear_model"
   ]
  },
  {
   "cell_type": "code",
   "execution_count": 32,
   "id": "effa3896",
   "metadata": {},
   "outputs": [
    {
     "data": {
      "text/plain": [
       "LinearRegression()"
      ]
     },
     "execution_count": 32,
     "metadata": {},
     "output_type": "execute_result"
    }
   ],
   "source": [
    "linear_model.fit(inputs,actual_output)"
   ]
  },
  {
   "cell_type": "code",
   "execution_count": 33,
   "id": "07e61f69",
   "metadata": {},
   "outputs": [
    {
     "data": {
      "text/plain": [
       "array([[-0.20544372, -0.33605084,  0.39562692,  0.40057409]])"
      ]
     },
     "execution_count": 33,
     "metadata": {},
     "output_type": "execute_result"
    }
   ],
   "source": [
    "linear_model.coef_"
   ]
  },
  {
   "cell_type": "code",
   "execution_count": 34,
   "id": "cec9b91a",
   "metadata": {},
   "outputs": [
    {
     "data": {
      "text/plain": [
       "array([30.67733585])"
      ]
     },
     "execution_count": 34,
     "metadata": {},
     "output_type": "execute_result"
    }
   ],
   "source": [
    "linear_model.intercept_"
   ]
  },
  {
   "cell_type": "markdown",
   "id": "da3e0628",
   "metadata": {},
   "source": [
    "### Using statsmodels --- import statsmodels.formula.api as smf"
   ]
  },
  {
   "cell_type": "code",
   "execution_count": 58,
   "id": "6ca19ee8",
   "metadata": {},
   "outputs": [],
   "source": [
    "linear_model_stats = smf.ols('MPG~HP + VOL + SP + WT',data = cars_data).fit()"
   ]
  },
  {
   "cell_type": "code",
   "execution_count": 60,
   "id": "b87e960a",
   "metadata": {},
   "outputs": [
    {
     "data": {
      "text/plain": [
       "Intercept    30.677336\n",
       "HP           -0.205444\n",
       "VOL          -0.336051\n",
       "SP            0.395627\n",
       "WT            0.400574\n",
       "dtype: float64"
      ]
     },
     "execution_count": 60,
     "metadata": {},
     "output_type": "execute_result"
    }
   ],
   "source": [
    "linear_model_stats.params"
   ]
  },
  {
   "cell_type": "markdown",
   "id": "6e1150ff",
   "metadata": {},
   "source": [
    "# 6. Model Testing"
   ]
  },
  {
   "cell_type": "code",
   "execution_count": 40,
   "id": "d0f6a039",
   "metadata": {},
   "outputs": [
    {
     "data": {
      "text/plain": [
       "array([[43.44193477],\n",
       "       [42.38879289],\n",
       "       [42.27934147],\n",
       "       [42.53835981],\n",
       "       [42.17264802],\n",
       "       [43.02061916],\n",
       "       [42.32536062],\n",
       "       [48.07621852],\n",
       "       [48.28120247],\n",
       "       [40.79122814],\n",
       "       [41.52153227],\n",
       "       [47.80956747],\n",
       "       [39.95980269],\n",
       "       [41.52757889],\n",
       "       [41.76632332],\n",
       "       [41.6181448 ],\n",
       "       [41.15094046],\n",
       "       [47.98605515],\n",
       "       [41.30861046],\n",
       "       [37.87127922],\n",
       "       [38.57706414],\n",
       "       [37.35199705],\n",
       "       [37.89770285],\n",
       "       [39.5625144 ],\n",
       "       [39.93380662],\n",
       "       [46.73870908],\n",
       "       [35.48165898],\n",
       "       [38.78152504],\n",
       "       [38.24861192],\n",
       "       [36.00285298],\n",
       "       [34.84603989],\n",
       "       [37.21630246],\n",
       "       [37.13919796],\n",
       "       [34.82541399],\n",
       "       [37.22361389],\n",
       "       [37.53950097],\n",
       "       [39.27144845],\n",
       "       [38.24219888],\n",
       "       [38.54286458],\n",
       "       [35.9391722 ],\n",
       "       [34.2129755 ],\n",
       "       [35.36313259],\n",
       "       [37.50473376],\n",
       "       [38.07998482],\n",
       "       [35.79651664],\n",
       "       [36.2613377 ],\n",
       "       [34.21826465],\n",
       "       [35.59393404],\n",
       "       [36.91805291],\n",
       "       [33.31108154],\n",
       "       [33.21313413],\n",
       "       [33.3023649 ],\n",
       "       [29.19864884],\n",
       "       [27.52358579],\n",
       "       [28.3207133 ],\n",
       "       [28.56722621],\n",
       "       [35.81583602],\n",
       "       [33.02108459],\n",
       "       [35.37334971],\n",
       "       [32.29909503],\n",
       "       [29.87685849],\n",
       "       [28.76093817],\n",
       "       [25.14188416],\n",
       "       [26.47040896],\n",
       "       [25.97651933],\n",
       "       [36.35652478],\n",
       "       [26.0975912 ],\n",
       "       [23.6416178 ],\n",
       "       [24.39887199],\n",
       "       [20.21195358],\n",
       "       [27.80846468],\n",
       "       [22.44206834],\n",
       "       [23.07667801],\n",
       "       [18.717314  ],\n",
       "       [23.84934696],\n",
       "       [21.07461275],\n",
       "       [21.28209598],\n",
       "       [17.89904991],\n",
       "       [26.13645315],\n",
       "       [12.31661154],\n",
       "       [15.55948057]])"
      ]
     },
     "execution_count": 40,
     "metadata": {},
     "output_type": "execute_result"
    }
   ],
   "source": [
    "output_pred=linear_model.predict(inputs)\n",
    "output_pred"
   ]
  },
  {
   "cell_type": "code",
   "execution_count": 36,
   "id": "9478dbe4",
   "metadata": {},
   "outputs": [
    {
     "data": {
      "text/html": [
       "<div>\n",
       "<style scoped>\n",
       "    .dataframe tbody tr th:only-of-type {\n",
       "        vertical-align: middle;\n",
       "    }\n",
       "\n",
       "    .dataframe tbody tr th {\n",
       "        vertical-align: top;\n",
       "    }\n",
       "\n",
       "    .dataframe thead th {\n",
       "        text-align: right;\n",
       "    }\n",
       "</style>\n",
       "<table border=\"1\" class=\"dataframe\">\n",
       "  <thead>\n",
       "    <tr style=\"text-align: right;\">\n",
       "      <th></th>\n",
       "      <th>MPG</th>\n",
       "    </tr>\n",
       "  </thead>\n",
       "  <tbody>\n",
       "    <tr>\n",
       "      <th>0</th>\n",
       "      <td>53.700681</td>\n",
       "    </tr>\n",
       "    <tr>\n",
       "      <th>1</th>\n",
       "      <td>50.013401</td>\n",
       "    </tr>\n",
       "    <tr>\n",
       "      <th>2</th>\n",
       "      <td>50.013401</td>\n",
       "    </tr>\n",
       "    <tr>\n",
       "      <th>3</th>\n",
       "      <td>45.696322</td>\n",
       "    </tr>\n",
       "    <tr>\n",
       "      <th>4</th>\n",
       "      <td>50.504232</td>\n",
       "    </tr>\n",
       "    <tr>\n",
       "      <th>...</th>\n",
       "      <td>...</td>\n",
       "    </tr>\n",
       "    <tr>\n",
       "      <th>76</th>\n",
       "      <td>36.900000</td>\n",
       "    </tr>\n",
       "    <tr>\n",
       "      <th>77</th>\n",
       "      <td>19.197888</td>\n",
       "    </tr>\n",
       "    <tr>\n",
       "      <th>78</th>\n",
       "      <td>34.000000</td>\n",
       "    </tr>\n",
       "    <tr>\n",
       "      <th>79</th>\n",
       "      <td>19.833733</td>\n",
       "    </tr>\n",
       "    <tr>\n",
       "      <th>80</th>\n",
       "      <td>12.101263</td>\n",
       "    </tr>\n",
       "  </tbody>\n",
       "</table>\n",
       "<p>81 rows × 1 columns</p>\n",
       "</div>"
      ],
      "text/plain": [
       "          MPG\n",
       "0   53.700681\n",
       "1   50.013401\n",
       "2   50.013401\n",
       "3   45.696322\n",
       "4   50.504232\n",
       "..        ...\n",
       "76  36.900000\n",
       "77  19.197888\n",
       "78  34.000000\n",
       "79  19.833733\n",
       "80  12.101263\n",
       "\n",
       "[81 rows x 1 columns]"
      ]
     },
     "execution_count": 36,
     "metadata": {},
     "output_type": "execute_result"
    }
   ],
   "source": [
    "actual_output"
   ]
  },
  {
   "cell_type": "markdown",
   "id": "473c46dc",
   "metadata": {},
   "source": [
    "# 7. Model Evaluation"
   ]
  },
  {
   "cell_type": "code",
   "execution_count": 39,
   "id": "39a4a14d",
   "metadata": {},
   "outputs": [
    {
     "ename": "AttributeError",
     "evalue": "'LinearRegression' object has no attribute 'astype'",
     "output_type": "error",
     "traceback": [
      "\u001b[1;31m---------------------------------------------------------------------------\u001b[0m",
      "\u001b[1;31mAttributeError\u001b[0m                            Traceback (most recent call last)",
      "Input \u001b[1;32mIn [39]\u001b[0m, in \u001b[0;36m<cell line: 1>\u001b[1;34m()\u001b[0m\n\u001b[1;32m----> 1\u001b[0m \u001b[43mlinear_model\u001b[49m\u001b[38;5;241;43m.\u001b[39;49m\u001b[43mastype\u001b[49m(\u001b[38;5;124m'\u001b[39m\u001b[38;5;124mfloat\u001b[39m\u001b[38;5;124m'\u001b[39m)\n",
      "\u001b[1;31mAttributeError\u001b[0m: 'LinearRegression' object has no attribute 'astype'"
     ]
    }
   ],
   "source": [
    "linear_model.astype('float')"
   ]
  },
  {
   "cell_type": "code",
   "execution_count": 41,
   "id": "84b2f88a",
   "metadata": {},
   "outputs": [
    {
     "data": {
      "text/html": [
       "<div>\n",
       "<style scoped>\n",
       "    .dataframe tbody tr th:only-of-type {\n",
       "        vertical-align: middle;\n",
       "    }\n",
       "\n",
       "    .dataframe tbody tr th {\n",
       "        vertical-align: top;\n",
       "    }\n",
       "\n",
       "    .dataframe thead th {\n",
       "        text-align: right;\n",
       "    }\n",
       "</style>\n",
       "<table border=\"1\" class=\"dataframe\">\n",
       "  <thead>\n",
       "    <tr style=\"text-align: right;\">\n",
       "      <th></th>\n",
       "      <th>MPG</th>\n",
       "    </tr>\n",
       "  </thead>\n",
       "  <tbody>\n",
       "    <tr>\n",
       "      <th>0</th>\n",
       "      <td>10.258747</td>\n",
       "    </tr>\n",
       "    <tr>\n",
       "      <th>1</th>\n",
       "      <td>7.624608</td>\n",
       "    </tr>\n",
       "    <tr>\n",
       "      <th>2</th>\n",
       "      <td>7.734060</td>\n",
       "    </tr>\n",
       "    <tr>\n",
       "      <th>3</th>\n",
       "      <td>3.157963</td>\n",
       "    </tr>\n",
       "    <tr>\n",
       "      <th>4</th>\n",
       "      <td>8.331584</td>\n",
       "    </tr>\n",
       "    <tr>\n",
       "      <th>...</th>\n",
       "      <td>...</td>\n",
       "    </tr>\n",
       "    <tr>\n",
       "      <th>76</th>\n",
       "      <td>15.617904</td>\n",
       "    </tr>\n",
       "    <tr>\n",
       "      <th>77</th>\n",
       "      <td>1.298838</td>\n",
       "    </tr>\n",
       "    <tr>\n",
       "      <th>78</th>\n",
       "      <td>7.863547</td>\n",
       "    </tr>\n",
       "    <tr>\n",
       "      <th>79</th>\n",
       "      <td>7.517122</td>\n",
       "    </tr>\n",
       "    <tr>\n",
       "      <th>80</th>\n",
       "      <td>-3.458218</td>\n",
       "    </tr>\n",
       "  </tbody>\n",
       "</table>\n",
       "<p>81 rows × 1 columns</p>\n",
       "</div>"
      ],
      "text/plain": [
       "          MPG\n",
       "0   10.258747\n",
       "1    7.624608\n",
       "2    7.734060\n",
       "3    3.157963\n",
       "4    8.331584\n",
       "..        ...\n",
       "76  15.617904\n",
       "77   1.298838\n",
       "78   7.863547\n",
       "79   7.517122\n",
       "80  -3.458218\n",
       "\n",
       "[81 rows x 1 columns]"
      ]
     },
     "execution_count": 41,
     "metadata": {},
     "output_type": "execute_result"
    }
   ],
   "source": [
    "error=actual_output-output_pred\n",
    "error"
   ]
  },
  {
   "cell_type": "markdown",
   "id": "839e60e7",
   "metadata": {},
   "source": [
    "## Back to Assumption Check"
   ]
  },
  {
   "cell_type": "markdown",
   "id": "7eccaf41",
   "metadata": {},
   "source": [
    "### 3.2.5 Homoscedasticity Check"
   ]
  },
  {
   "cell_type": "code",
   "execution_count": 44,
   "id": "b6a5eab4",
   "metadata": {},
   "outputs": [
    {
     "data": {
      "text/html": [
       "<div>\n",
       "<style scoped>\n",
       "    .dataframe tbody tr th:only-of-type {\n",
       "        vertical-align: middle;\n",
       "    }\n",
       "\n",
       "    .dataframe tbody tr th {\n",
       "        vertical-align: top;\n",
       "    }\n",
       "\n",
       "    .dataframe thead th {\n",
       "        text-align: right;\n",
       "    }\n",
       "</style>\n",
       "<table border=\"1\" class=\"dataframe\">\n",
       "  <thead>\n",
       "    <tr style=\"text-align: right;\">\n",
       "      <th></th>\n",
       "      <th>MPG</th>\n",
       "    </tr>\n",
       "  </thead>\n",
       "  <tbody>\n",
       "    <tr>\n",
       "      <th>0</th>\n",
       "      <td>10.258747</td>\n",
       "    </tr>\n",
       "    <tr>\n",
       "      <th>1</th>\n",
       "      <td>7.624608</td>\n",
       "    </tr>\n",
       "    <tr>\n",
       "      <th>2</th>\n",
       "      <td>7.734060</td>\n",
       "    </tr>\n",
       "    <tr>\n",
       "      <th>3</th>\n",
       "      <td>3.157963</td>\n",
       "    </tr>\n",
       "    <tr>\n",
       "      <th>4</th>\n",
       "      <td>8.331584</td>\n",
       "    </tr>\n",
       "    <tr>\n",
       "      <th>...</th>\n",
       "      <td>...</td>\n",
       "    </tr>\n",
       "    <tr>\n",
       "      <th>76</th>\n",
       "      <td>15.617904</td>\n",
       "    </tr>\n",
       "    <tr>\n",
       "      <th>77</th>\n",
       "      <td>1.298838</td>\n",
       "    </tr>\n",
       "    <tr>\n",
       "      <th>78</th>\n",
       "      <td>7.863547</td>\n",
       "    </tr>\n",
       "    <tr>\n",
       "      <th>79</th>\n",
       "      <td>7.517122</td>\n",
       "    </tr>\n",
       "    <tr>\n",
       "      <th>80</th>\n",
       "      <td>-3.458218</td>\n",
       "    </tr>\n",
       "  </tbody>\n",
       "</table>\n",
       "<p>81 rows × 1 columns</p>\n",
       "</div>"
      ],
      "text/plain": [
       "          MPG\n",
       "0   10.258747\n",
       "1    7.624608\n",
       "2    7.734060\n",
       "3    3.157963\n",
       "4    8.331584\n",
       "..        ...\n",
       "76  15.617904\n",
       "77   1.298838\n",
       "78   7.863547\n",
       "79   7.517122\n",
       "80  -3.458218\n",
       "\n",
       "[81 rows x 1 columns]"
      ]
     },
     "execution_count": 44,
     "metadata": {},
     "output_type": "execute_result"
    }
   ],
   "source": [
    "error"
   ]
  },
  {
   "cell_type": "markdown",
   "id": "88a64e9e",
   "metadata": {},
   "source": [
    "### To chech Homoscedasticity, we first bring all input features to std values\n",
    "**from sklearn.preprocessing import StandardScaler**"
   ]
  },
  {
   "cell_type": "code",
   "execution_count": 45,
   "id": "0ca80efb",
   "metadata": {},
   "outputs": [],
   "source": [
    "from sklearn.preprocessing import StandardScaler"
   ]
  },
  {
   "cell_type": "code",
   "execution_count": 49,
   "id": "05ec3559",
   "metadata": {},
   "outputs": [
    {
     "data": {
      "text/html": [
       "<div>\n",
       "<style scoped>\n",
       "    .dataframe tbody tr th:only-of-type {\n",
       "        vertical-align: middle;\n",
       "    }\n",
       "\n",
       "    .dataframe tbody tr th {\n",
       "        vertical-align: top;\n",
       "    }\n",
       "\n",
       "    .dataframe thead th {\n",
       "        text-align: right;\n",
       "    }\n",
       "</style>\n",
       "<table border=\"1\" class=\"dataframe\">\n",
       "  <thead>\n",
       "    <tr style=\"text-align: right;\">\n",
       "      <th></th>\n",
       "      <th>HP</th>\n",
       "      <th>VOL</th>\n",
       "      <th>SP</th>\n",
       "      <th>WT</th>\n",
       "    </tr>\n",
       "  </thead>\n",
       "  <tbody>\n",
       "    <tr>\n",
       "      <th>0</th>\n",
       "      <td>-1.206295</td>\n",
       "      <td>-0.440611</td>\n",
       "      <td>-1.231403</td>\n",
       "      <td>-0.490238</td>\n",
       "    </tr>\n",
       "    <tr>\n",
       "      <th>1</th>\n",
       "      <td>-1.100587</td>\n",
       "      <td>-0.305252</td>\n",
       "      <td>-1.140871</td>\n",
       "      <td>-0.261299</td>\n",
       "    </tr>\n",
       "    <tr>\n",
       "      <th>2</th>\n",
       "      <td>-1.100587</td>\n",
       "      <td>-0.305252</td>\n",
       "      <td>-1.140871</td>\n",
       "      <td>-0.297993</td>\n",
       "    </tr>\n",
       "    <tr>\n",
       "      <th>3</th>\n",
       "      <td>-0.836315</td>\n",
       "      <td>-0.305252</td>\n",
       "      <td>-0.573239</td>\n",
       "      <td>-0.239103</td>\n",
       "    </tr>\n",
       "    <tr>\n",
       "      <th>4</th>\n",
       "      <td>-1.135823</td>\n",
       "      <td>-0.305252</td>\n",
       "      <td>-1.211826</td>\n",
       "      <td>-0.338878</td>\n",
       "    </tr>\n",
       "    <tr>\n",
       "      <th>...</th>\n",
       "      <td>...</td>\n",
       "      <td>...</td>\n",
       "      <td>...</td>\n",
       "      <td>...</td>\n",
       "    </tr>\n",
       "    <tr>\n",
       "      <th>76</th>\n",
       "      <td>3.603442</td>\n",
       "      <td>-2.200268</td>\n",
       "      <td>3.409929</td>\n",
       "      <td>-2.186236</td>\n",
       "    </tr>\n",
       "    <tr>\n",
       "      <th>77</th>\n",
       "      <td>2.123523</td>\n",
       "      <td>0.732494</td>\n",
       "      <td>2.060245</td>\n",
       "      <td>0.740025</td>\n",
       "    </tr>\n",
       "    <tr>\n",
       "      <th>78</th>\n",
       "      <td>2.563975</td>\n",
       "      <td>-2.200268</td>\n",
       "      <td>2.132755</td>\n",
       "      <td>-2.235028</td>\n",
       "    </tr>\n",
       "    <tr>\n",
       "      <th>79</th>\n",
       "      <td>3.127754</td>\n",
       "      <td>0.912972</td>\n",
       "      <td>3.292567</td>\n",
       "      <td>0.941462</td>\n",
       "    </tr>\n",
       "    <tr>\n",
       "      <th>80</th>\n",
       "      <td>2.088287</td>\n",
       "      <td>0.371539</td>\n",
       "      <td>1.298499</td>\n",
       "      <td>0.340572</td>\n",
       "    </tr>\n",
       "  </tbody>\n",
       "</table>\n",
       "<p>81 rows × 4 columns</p>\n",
       "</div>"
      ],
      "text/plain": [
       "          HP       VOL        SP        WT\n",
       "0  -1.206295 -0.440611 -1.231403 -0.490238\n",
       "1  -1.100587 -0.305252 -1.140871 -0.261299\n",
       "2  -1.100587 -0.305252 -1.140871 -0.297993\n",
       "3  -0.836315 -0.305252 -0.573239 -0.239103\n",
       "4  -1.135823 -0.305252 -1.211826 -0.338878\n",
       "..       ...       ...       ...       ...\n",
       "76  3.603442 -2.200268  3.409929 -2.186236\n",
       "77  2.123523  0.732494  2.060245  0.740025\n",
       "78  2.563975 -2.200268  2.132755 -2.235028\n",
       "79  3.127754  0.912972  3.292567  0.941462\n",
       "80  2.088287  0.371539  1.298499  0.340572\n",
       "\n",
       "[81 rows x 4 columns]"
      ]
     },
     "execution_count": 49,
     "metadata": {},
     "output_type": "execute_result"
    }
   ],
   "source": [
    "std_scaled=StandardScaler()\n",
    "std_scaled_inputs=std_scaled.fit_transform(inputs)\n",
    "std_scaled_inputs=pd.DataFrame(data=std_scaled_inputs,columns=['HP','VOL','SP','WT'])\n",
    "std_scaled_inputs"
   ]
  },
  {
   "cell_type": "code",
   "execution_count": 51,
   "id": "b94906b8",
   "metadata": {},
   "outputs": [
    {
     "data": {
      "image/png": "[encoded data removed]",
      "text/plain": [
       "<Figure size 432x288 with 1 Axes>"
      ]
     },
     "metadata": {
      "needs_background": "light"
     },
     "output_type": "display_data"
    }
   ],
   "source": [
    "plt.scatter(x=std_scaled_inputs['HP'],y=error)\n",
    "plt.xlabel('HP')\n",
    "plt.ylabel('Error')\n",
    "plt.title('HP Vs Error')\n",
    "plt.show()"
   ]
  },
  {
   "cell_type": "code",
   "execution_count": 52,
   "id": "9427ac33",
   "metadata": {},
   "outputs": [
    {
     "data": {
      "image/png": "[encoded data removed]",
      "text/plain": [
       "<Figure size 432x288 with 1 Axes>"
      ]
     },
     "metadata": {
      "needs_background": "light"
     },
     "output_type": "display_data"
    }
   ],
   "source": [
    "plt.scatter(x=inputs['HP'],y=error)  # HP values not standardised\n",
    "plt.xlabel('HP')\n",
    "plt.ylabel('Error')\n",
    "plt.title('HP Vs Error')\n",
    "plt.show()"
   ]
  },
  {
   "cell_type": "code",
   "execution_count": 53,
   "id": "6c971fad",
   "metadata": {},
   "outputs": [
    {
     "data": {
      "image/png": "[encoded data removed]",
      "text/plain": [
       "<Figure size 432x288 with 1 Axes>"
      ]
     },
     "metadata": {
      "needs_background": "light"
     },
     "output_type": "display_data"
    }
   ],
   "source": [
    "plt.scatter(x=std_scaled_inputs['VOL'],y=error)\n",
    "plt.xlabel('VOL')\n",
    "plt.ylabel('Error')\n",
    "plt.title('VOL Vs Error')\n",
    "plt.show()"
   ]
  },
  {
   "cell_type": "code",
   "execution_count": 54,
   "id": "732b3a72",
   "metadata": {},
   "outputs": [
    {
     "data": {
      "image/png": "[encoded data removed]",
      "text/plain": [
       "<Figure size 432x288 with 1 Axes>"
      ]
     },
     "metadata": {
      "needs_background": "light"
     },
     "output_type": "display_data"
    }
   ],
   "source": [
    "plt.scatter(x=std_scaled_inputs['SP'],y=error)\n",
    "plt.xlabel('SP')\n",
    "plt.ylabel('Error')\n",
    "plt.title('SP Vs Error')\n",
    "plt.show()"
   ]
  },
  {
   "cell_type": "code",
   "execution_count": 55,
   "id": "e1a91a39",
   "metadata": {},
   "outputs": [
    {
     "data": {
      "image/png": "[encoded data removed]",
      "text/plain": [
       "<Figure size 432x288 with 1 Axes>"
      ]
     },
     "metadata": {
      "needs_background": "light"
     },
     "output_type": "display_data"
    }
   ],
   "source": [
    "plt.scatter(x=std_scaled_inputs['WT'],y=error)\n",
    "plt.xlabel('WT')\n",
    "plt.ylabel('Error')\n",
    "plt.title('WT Vs Error')\n",
    "plt.show()"
   ]
  },
  {
   "cell_type": "markdown",
   "id": "a537092a",
   "metadata": {},
   "source": [
    "### Homoscedasticity Test is Failed"
   ]
  },
  {
   "cell_type": "markdown",
   "id": "6a2f973b",
   "metadata": {},
   "source": [
    "### 3.2.6 Zero Residual Mean "
   ]
  },
  {
   "cell_type": "code",
   "execution_count": 56,
   "id": "fa5324db",
   "metadata": {},
   "outputs": [
    {
     "data": {
      "image/png": "[encoded data removed]",
      "text/plain": [
       "<Figure size 432x288 with 1 Axes>"
      ]
     },
     "metadata": {
      "needs_background": "light"
     },
     "output_type": "display_data"
    }
   ],
   "source": [
    "plt.scatter(x=actual_output,y=output_pred)\n",
    "plt.xlabel('Actual MPG')\n",
    "plt.ylabel('Predicted MPG')\n",
    "plt.title('Actual o/p Vs Predicted o/p')\n",
    "plt.show()"
   ]
  },
  {
   "cell_type": "markdown",
   "id": "4e33fc16",
   "metadata": {},
   "source": [
    "### Zero Residual Test is also Failed"
   ]
  },
  {
   "cell_type": "markdown",
   "id": "d994658b",
   "metadata": {},
   "source": [
    "# Evaluation Metrics of Linear Regression\n",
    "1. rsquared\n",
    "2. rsquared_adj\n",
    "3. aic value\n",
    "4. bic value"
   ]
  },
  {
   "cell_type": "markdown",
   "id": "eabdb5af",
   "metadata": {},
   "source": [
    "### rsquared, adj rsquared,aic and bic will not come as sklearn library does not have that function. So we require statsmodels library"
   ]
  },
  {
   "cell_type": "code",
   "execution_count": 63,
   "id": "97ddd929",
   "metadata": {},
   "outputs": [
    {
     "data": {
      "text/plain": [
       "0.7705"
      ]
     },
     "execution_count": 63,
     "metadata": {},
     "output_type": "execute_result"
    }
   ],
   "source": [
    "linear_model_stats.rsquared.round(4)"
   ]
  },
  {
   "cell_type": "code",
   "execution_count": 64,
   "id": "89c38b93",
   "metadata": {},
   "outputs": [
    {
     "data": {
      "text/plain": [
       "0.7585"
      ]
     },
     "execution_count": 64,
     "metadata": {},
     "output_type": "execute_result"
    }
   ],
   "source": [
    "linear_model_stats.rsquared_adj.round(4)"
   ]
  },
  {
   "cell_type": "code",
   "execution_count": 65,
   "id": "0243336c",
   "metadata": {},
   "outputs": [
    {
     "data": {
      "text/plain": [
       "477.9279"
      ]
     },
     "execution_count": 65,
     "metadata": {},
     "output_type": "execute_result"
    }
   ],
   "source": [
    "linear_model_stats.aic.round(4)"
   ]
  },
  {
   "cell_type": "code",
   "execution_count": 66,
   "id": "b114ab90",
   "metadata": {},
   "outputs": [
    {
     "data": {
      "text/plain": [
       "489.9002"
      ]
     },
     "execution_count": 66,
     "metadata": {},
     "output_type": "execute_result"
    }
   ],
   "source": [
    "linear_model_stats.bic.round(4)"
   ]
  },
  {
   "cell_type": "markdown",
   "id": "7dc4e6c6",
   "metadata": {},
   "source": [
    "## Let's check evaluation metrics for different input as per its contribution"
   ]
  },
  {
   "cell_type": "code",
   "execution_count": 78,
   "id": "55370250",
   "metadata": {},
   "outputs": [
    {
     "name": "stdout",
     "output_type": "stream",
     "text": [
      "R-squared      : 0.5257\n",
      "Adj R-squared  : 0.5197\n",
      "AIC Value      : 530.7453\n",
      "BIC Value      : 535.5342\n",
      "P-Value :\n",
      "\n",
      "Intercept    1.211037e-44\n",
      "HP           1.956490e-14\n",
      "dtype: float64\n"
     ]
    }
   ],
   "source": [
    "linear_model_stats_1=smf.ols(formula='MPG~HP',data=cars_data).fit()\n",
    "print('R-squared      :',linear_model_stats_1.rsquared.round(4))\n",
    "print('Adj R-squared  :',linear_model_stats_1.rsquared_adj.round(4))\n",
    "print('AIC Value      :',linear_model_stats_1.aic.round(4))\n",
    "print('BIC Value      :',linear_model_stats_1.bic.round(4))\n",
    "print('P-Value :\\n')\n",
    "print(linear_model_stats_1.pvalues)"
   ]
  },
  {
   "cell_type": "code",
   "execution_count": 79,
   "id": "964135a8",
   "metadata": {},
   "outputs": [
    {
     "name": "stdout",
     "output_type": "stream",
     "text": [
      "R-squared      : 0.7507\n",
      "Adj R-squared  : 0.7443\n",
      "AIC Value      : 480.6569\n",
      "BIC Value      : 487.8403\n",
      "P-Value :\n",
      "\n",
      "Intercept    7.697003e-41\n",
      "HP           1.203680e-19\n",
      "VOL          1.654693e-12\n",
      "dtype: float64\n"
     ]
    }
   ],
   "source": [
    "linear_model_stats_2=smf.ols(formula='MPG~HP + VOL',data=cars_data).fit()\n",
    "print('R-squared      :',linear_model_stats_2.rsquared.round(4))\n",
    "print('Adj R-squared  :',linear_model_stats_2.rsquared_adj.round(4))\n",
    "print('AIC Value      :',linear_model_stats_2.aic.round(4))\n",
    "print('BIC Value      :',linear_model_stats_2.bic.round(4))\n",
    "print('P-Value :\\n')\n",
    "print(linear_model_stats_2.pvalues)"
   ]
  },
  {
   "cell_type": "code",
   "execution_count": 80,
   "id": "3c8b785e",
   "metadata": {},
   "outputs": [
    {
     "name": "stdout",
     "output_type": "stream",
     "text": [
      "R-squared      : 0.7704\n",
      "Adj R-squared  : 0.7614\n",
      "AIC Value      : 475.9875\n",
      "BIC Value      : 485.5653\n",
      "P-Value :\n",
      "\n",
      "Intercept    4.194554e-02\n",
      "HP           8.644870e-07\n",
      "VOL          1.648229e-13\n",
      "SP           1.207855e-02\n",
      "dtype: float64\n"
     ]
    }
   ],
   "source": [
    "linear_model_stats_3=smf.ols(formula='MPG~HP + VOL + SP',data=cars_data).fit()\n",
    "print('R-squared      :',linear_model_stats_3.rsquared.round(4))\n",
    "print('Adj R-squared  :',linear_model_stats_3.rsquared_adj.round(4))\n",
    "print('AIC Value      :',linear_model_stats_3.aic.round(4))\n",
    "print('BIC Value      :',linear_model_stats_3.bic.round(4))\n",
    "print('P-Value :\\n')\n",
    "print(linear_model_stats_3.pvalues)"
   ]
  },
  {
   "cell_type": "code",
   "execution_count": 81,
   "id": "61a11ed7",
   "metadata": {},
   "outputs": [
    {
     "name": "stdout",
     "output_type": "stream",
     "text": [
      "R-squared      : 0.7705\n",
      "Adj R-squared  : 0.7585\n",
      "AIC Value      : 477.9279\n",
      "BIC Value      : 489.9002\n",
      "P-Value :\n",
      "\n",
      "Intercept    0.042936\n",
      "HP           0.000001\n",
      "VOL          0.556294\n",
      "SP           0.014579\n",
      "WT           0.813649\n",
      "dtype: float64\n"
     ]
    }
   ],
   "source": [
    "linear_model_stats_4=smf.ols(formula='MPG~HP + VOL + SP + WT',data=cars_data).fit()\n",
    "print('R-squared      :',linear_model_stats_4.rsquared.round(4))\n",
    "print('Adj R-squared  :',linear_model_stats_4.rsquared_adj.round(4))\n",
    "print('AIC Value      :',linear_model_stats_4.aic.round(4))\n",
    "print('BIC Value      :',linear_model_stats_4.bic.round(4))\n",
    "print('P-Value :\\n')\n",
    "print(linear_model_stats_4.pvalues)"
   ]
  },
  {
   "cell_type": "markdown",
   "id": "208fedcf",
   "metadata": {},
   "source": [
    "#### From sklearn, we can get mean_squared_error and mean_absolute_error"
   ]
  },
  {
   "cell_type": "code",
   "execution_count": 82,
   "id": "3253656c",
   "metadata": {},
   "outputs": [],
   "source": [
    "from sklearn.metrics import mean_absolute_error,mean_squared_error"
   ]
  },
  {
   "cell_type": "code",
   "execution_count": 84,
   "id": "4d8e22eb",
   "metadata": {},
   "outputs": [
    {
     "data": {
      "text/plain": [
       "18.897141152343103"
      ]
     },
     "execution_count": 84,
     "metadata": {},
     "output_type": "execute_result"
    }
   ],
   "source": [
    "mean_squared_error(actual_output,output_pred)"
   ]
  },
  {
   "cell_type": "code",
   "execution_count": 85,
   "id": "04899db7",
   "metadata": {},
   "outputs": [
    {
     "data": {
      "text/plain": [
       "3.267968285420799"
      ]
     },
     "execution_count": 85,
     "metadata": {},
     "output_type": "execute_result"
    }
   ],
   "source": [
    "mean_absolute_error(actual_output,output_pred)"
   ]
  },
  {
   "cell_type": "code",
   "execution_count": 2,
   "id": "113d2f81",
   "metadata": {},
   "outputs": [],
   "source": [
    "import pandas as pd"
   ]
  },
  {
   "cell_type": "code",
   "execution_count": 3,
   "id": "133dd657",
   "metadata": {},
   "outputs": [],
   "source": [
    "a=[10,12,14,16,18]"
   ]
  },
  {
   "cell_type": "code",
   "execution_count": 4,
   "id": "70cf0c11",
   "metadata": {},
   "outputs": [],
   "source": [
    "adf=pd.DataFrame({'a':pd.Series(a)})"
   ]
  },
  {
   "cell_type": "code",
   "execution_count": 5,
   "id": "ae309e79",
   "metadata": {},
   "outputs": [
    {
     "data": {
      "text/plain": [
       "a    10.0\n",
       "dtype: float64"
      ]
     },
     "execution_count": 5,
     "metadata": {},
     "output_type": "execute_result"
    }
   ],
   "source": [
    "adf.var()"
   ]
  },
  {
   "cell_type": "code",
   "execution_count": null,
   "id": "fb6ea5dc",
   "metadata": {},
   "outputs": [],
   "source": []
  }
 ],
 "metadata": {
  "kernelspec": {
   "display_name": "Python 3 (ipykernel)",
   "language": "python",
   "name": "python3"
  },
  "language_info": {
   "codemirror_mode": {
    "name": "ipython",
    "version": 3
   },
   "file_extension": ".py",
   "mimetype": "text/x-python",
   "name": "python",
   "nbconvert_exporter": "python",
   "pygments_lexer": "ipython3",
   "version": "3.9.12"
  }
 },
 "nbformat": 4,
 "nbformat_minor": 5
}
